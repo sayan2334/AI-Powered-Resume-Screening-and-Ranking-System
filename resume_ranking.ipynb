{
 "cells": [
  {
   "cell_type": "code",
   "execution_count": null,
   "id": "36d31c59",
   "metadata": {},
   "outputs": [],
   "source": [
    "import streamlit as st\n",
    "import spacy\n",
    "import pandas as pd\n",
    "from PyPDF2 import PdfReader\n",
    "from sklearn.feature_extraction.text import TfidfVectorizer\n",
    "from sklearn.metrics.pairwise import cosine_similarity\n",
    "import re"
   ]
  },
  {
   "cell_type": "code",
   "execution_count": null,
   "id": "5df8fd37",
   "metadata": {},
   "outputs": [],
   "source": [
    "# Load NLP model\n",
    "nlp = spacy.load(\"en_core_web_sm\")"
   ]
  },
  {
   "cell_type": "code",
   "execution_count": null,
   "id": "62fd45df",
   "metadata": {},
   "outputs": [],
   "source": [
    "# Function to extract text from PDF\n",
    "def extract_text_from_pdf(file):\n",
    "    pdf = PdfReader(file)\n",
    "    text = \" \".join(page.extract_text() or \"\" for page in pdf.pages)\n",
    "    return text"
   ]
  },
  {
   "cell_type": "code",
   "execution_count": null,
   "id": "67d98dba",
   "metadata": {},
   "outputs": [],
   "source": [
    "# Function to clean and preprocess text\n",
    "def preprocess_text(text):\n",
    "    text = re.sub(r'[^a-zA-Z0-9\\s]', '', text)  # Remove special characters\n",
    "    text = re.sub(r'\\s+', ' ', text).strip()  # Remove extra spaces\n",
    "    text = text.lower()  # Convert to lowercase\n",
    "    doc = nlp(text)\n",
    "    tokens = [token.lemma_ for token in doc if not token.is_stop and token.is_alpha]\n",
    "    return \" \".join(tokens)"
   ]
  },
  {
   "cell_type": "code",
   "execution_count": null,
   "id": "4ad9743c",
   "metadata": {},
   "outputs": [],
   "source": [
    "# Function to rank resumes based on job description\n",
    "def rank_resumes(job_description, resumes):\n",
    "    # Preprocess job description and resumes\n",
    "    job_description = preprocess_text(job_description)\n",
    "    resumes = [preprocess_text(resume) for resume in resumes]\n",
    "    \n",
    "    # TF-IDF Vectorization with bigrams & optimized parameters\n",
    "    vectorizer = TfidfVectorizer(ngram_range=(1, 2), max_df=0.85, min_df=1, stop_words='english')\n",
    "    vectors = vectorizer.fit_transform([job_description] + resumes).toarray()\n",
    "\n",
    "    # Compute cosine similarity\n",
    "    cosine_similarities = cosine_similarity([vectors[0]], vectors[1:]).flatten()\n",
    "    \n",
    "    # Weighted scoring (Cosine Similarity + Keyword Matching)\n",
    "    important_keywords = {\"java\", \"python\", \"c++\", \"oop\", \"data structure\", \"sql\", \"algorithm\", \"spring boot\", \"django\", \"aws\"}\n",
    "    weighted_scores = [(cos_sim * 0.8 + len(set(resume.split()) & important_keywords) * 0.2) * 10\n",
    "                       for cos_sim, resume in zip(cosine_similarities, resumes)]\n",
    "    \n",
    "    return weighted_scores"
   ]
  },
  {
   "cell_type": "code",
   "execution_count": null,
   "id": "6b0f4d01",
   "metadata": {},
   "outputs": [],
   "source": [
    "# Streamlit app UI\n",
    "st.title(\"📄 AI Resume Screening & Candidate Ranking System\")\n",
    "\n",
    "# Job description input\n",
    "st.header(\"Job Description\")\n",
    "job_description = st.text_area(\"Enter the job description\")\n",
    "\n",
    "# File uploader\n",
    "st.header(\"Upload Resumes\")\n",
    "uploaded_files = st.file_uploader(\"Upload PDF resumes\", type=[\"pdf\"], accept_multiple_files=True)\n",
    "\n",
    "# Button to trigger ranking\n",
    "if uploaded_files and job_description:\n",
    "    if st.button(\"Rank Resumes\"):\n",
    "        st.header(\"Ranking Resumes\")\n",
    "        resumes = [extract_text_from_pdf(file) for file in uploaded_files]\n",
    "\n",
    "        # Rank resumes with automatic scale of 10\n",
    "        scores = rank_resumes(job_description, resumes)\n",
    "\n",
    "        # Create DataFrame for table display with ranking based on score\n",
    "        results = pd.DataFrame({\"Resume\": [file.name for file in uploaded_files], \"Score\": scores})\n",
    "        results = results.sort_values(by=\"Score\", ascending=False)\n",
    "        results.insert(0, \"Rank\", range(1, len(results) + 1))  # Adding Rank Column\n",
    "\n",
    "        # Display results in a table format with full score in the header\n",
    "        st.write(f\"### 📊 Ranked Resumes (Total: {len(uploaded_files)}) - Scoring Scale: 10\")\n",
    "        st.dataframe(results.style.format({\"Score\": \"{:.3f}\"}))"
   ]
  }
 ],
 "metadata": {},
 "nbformat": 4,
 "nbformat_minor": 5
}
